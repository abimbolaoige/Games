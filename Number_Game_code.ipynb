{
  "cells": [
    {
      "cell_type": "markdown",
      "metadata": {
        "id": "view-in-github",
        "colab_type": "text"
      },
      "source": [
        "<a href=\"https://colab.research.google.com/github/abimbolaoige/Games/blob/main/Number_Game_code.ipynb\" target=\"_parent\"><img src=\"https://colab.research.google.com/assets/colab-badge.svg\" alt=\"Open In Colab\"/></a>"
      ]
    },
    {
      "cell_type": "markdown",
      "id": "aaae21d9-772f-49fa-a631-8e8077f06c0a",
      "metadata": {
        "id": "aaae21d9-772f-49fa-a631-8e8077f06c0a"
      },
      "source": [
        "### GAME\n"
      ]
    },
    {
      "cell_type": "code",
      "execution_count": null,
      "id": "4802b2c4-12c3-44be-a10f-ddddfec1f42e",
      "metadata": {
        "colab": {
          "base_uri": "https://localhost:8080/"
        },
        "id": "4802b2c4-12c3-44be-a10f-ddddfec1f42e",
        "outputId": "e0c57553-6332-459a-c704-9e77d354eeb8"
      },
      "outputs": [
        {
          "output_type": "stream",
          "name": "stdout",
          "text": [
            "Welcome to the number guessing game\n",
            "I'm thinking of a number between 1 and 100.\n"
          ]
        }
      ],
      "source": [
        "import random\n",
        "number = random.randint(1,100)\n",
        "\n",
        "print(\"Welcome to the number guessing game\")\n",
        "print(\"I'm thinking of a number between 1 and 100.\")\n",
        "\n",
        "while True:\n",
        "    guess = int(input(\"Take a guess: \"))\n",
        "\n",
        "    if guess < number:\n",
        "        print(\"Too low. Try again\")\n",
        "    elif guess > number:\n",
        "        print(\"Too high. Try again\")\n",
        "    else:\n",
        "        print(\"Congratulations, You made it. Agba Coder\")\n",
        "        break"
      ]
    },
    {
      "cell_type": "code",
      "execution_count": null,
      "id": "28228094-f7fa-4902-bb3b-bdb064eb9692",
      "metadata": {
        "id": "28228094-f7fa-4902-bb3b-bdb064eb9692"
      },
      "outputs": [],
      "source": []
    }
  ],
  "metadata": {
    "kernelspec": {
      "display_name": "Python [conda env:base] *",
      "language": "python",
      "name": "conda-base-py"
    },
    "language_info": {
      "codemirror_mode": {
        "name": "ipython",
        "version": 3
      },
      "file_extension": ".py",
      "mimetype": "text/x-python",
      "name": "python",
      "nbconvert_exporter": "python",
      "pygments_lexer": "ipython3",
      "version": "3.12.7"
    },
    "colab": {
      "provenance": [],
      "include_colab_link": true
    }
  },
  "nbformat": 4,
  "nbformat_minor": 5
}